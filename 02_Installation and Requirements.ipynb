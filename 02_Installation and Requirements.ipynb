{
 "cells": [
  {
   "cell_type": "markdown",
   "metadata": {},
   "source": [
    "# Contents\n",
    "- [Installation and Requirements](#install)\n",
    "    - [List of Requirements](#req)\n",
    "- [Instructions](#instructions)\n",
    "    - [Software Installations](#soft)\n",
    "    - [Anaconda Instructions](#conda)\n",
    "    - [Python Instructions](#python)\n",
    "    - [Optional Downloads](#optional)\n",
    "- [Project Owner's PC Specs](#specs)"
   ]
  },
  {
   "cell_type": "markdown",
   "metadata": {},
   "source": [
    "---\n",
    "# Installation and Requirements<a id=install></a>\n",
    "\n",
    "For this project, multiple pieces of software and dependencies for Python need to be installed. Due to size constraints, not all the required parts are included in this GitHub, as such please follow this guide closely."
   ]
  },
  {
   "cell_type": "markdown",
   "metadata": {},
   "source": [
    "An assumption is made that you have installed and are using [Anaconda](https://www.anaconda.com/distribution/).<br/>\n",
    "Python version 3.7.3 was used in this project.\n",
    "\n",
    "## List of Requirements<a id=req></a>\n",
    "1. [Microsoft Visual Studio](https://visualstudio.microsoft.com/)\n",
    "2. [NVIDIA CUDA Computing Toolkit 10.0](https://developer.nvidia.com/cuda-10.0-download-archive)\n",
    "3. [cuDNN v7.6.1 for CUDA 10.0](https://developer.nvidia.com/rdp/cudnn-archive)\n",
    "4. Git in Anaconda\n",
    "5. Swig in Anaconda\n",
    "6. Cython in Python\n",
    "7. OpenCV in Python\n",
    "8. pandas in Python\n",
    "9. sklearn in Python\n",
    "10. imblearn in Python\n",
    "11. XGBoost in Python\n",
    "12. Tensorflow-gpu in Python\n",
    "13. [tf-pose-estimation GitHub repo](https://github.com/ildoonet/tf-pose-estimation)"
   ]
  },
  {
   "cell_type": "markdown",
   "metadata": {},
   "source": [
    "---\n",
    "# Instructions <a id=instructions></a>\n",
    "## Software Installations <a id=soft></a>\n",
    "\n",
    "First, we install **Microsoft Visual Studio**. Head over to the site linked in the list above and download the community edition (Visual Studio 2019 was used in this project). During the installation process, ensure that the appropriate *MSVC v14x build tools* are installed for your operating system. To be safe, I installed the *.NET desktop development* and *Desktop development for C++* workloads and installed the  *MSVC v142 - VS 2019 C++ x64/x86 build tools (v 14.22)* individual component. This should be sufficient for all our further installations.<br/>\n",
    "\n",
    "Next, we install **NVIDIA CUDA 10.0** from the link above. Just download the installation file and run it normally.<br/>\n",
    "\n",
    "We then download **cuDNN for CUDA 10.0** which is a zip file. Unzip the files and transfer all the files within to your CUDA installation folder. The default CUDA folder path in Windows should be *C:\\Program Files\\NVIDIA GPU Computing Toolkit\\CUDA\\v10.0*.\n",
    "\n"
   ]
  },
  {
   "cell_type": "markdown",
   "metadata": {},
   "source": [
    "## Anaconda Instructions <a id=conda></a>\n",
    "\n",
    "To protect our base conda environment, we shall create a new environment for this project. I have named my environment *opencv* and all of the project will be run in this environment henceforth.<br/>\n",
    "\n",
    "In your Anaconda shell/powershell, type:\n",
    "> `conda create --name opencv`\n",
    "\n",
    "next, we install ipykernel to enable our environment to be used in Jupyter Lab/Notebook. Type:\n",
    "> `conda activate opencv`<br/>\n",
    "`python -m ipykernel install --user --name opencv --display-name \"opencv\"`\n",
    "\n",
    "We finish off by installing all our required conda requirements. Type:\n",
    "> `conda install -c anaconda git`<br/>\n",
    "`conda install -c anaconda swig`"
   ]
  },
  {
   "cell_type": "markdown",
   "metadata": {},
   "source": [
    "## Python Instructions<a id=python></a>\n",
    "Next, we install all our requirements in Python. Ensure that you are using the appropriate environment for these installations. In our Anaconda shell, we type and run each line:\n",
    "> `pip install Cython`<br/>\n",
    "`pip install opencv-python`<br/>\n",
    "`pip install tensorflow-gpu`<br/>\n",
    "`pip install pandas`<br/>\n",
    "`pip install sklearn`<br/>\n",
    "`pip install imblearn`<br/>\n",
    "`pip install xgboost`\n",
    "\n",
    "We then download ildoonet's GitHub repo for tf-pose-estimation. We will be using his python code for keypoint estimation of the human body. Read his installation instructions carefully as we have to run three lines of code to make his code useable.<br/>\n",
    "\n",
    "We have to edit the requirements.txt as part of the requirements are outdated. In requirements.txt, replace the line \n",
    ">pycocotools\n",
    "\n",
    "with\n",
    "> git+https://github.com/philferriere/cocoapi.git#egg=pycocotools&subdirectory=PythonAPI\n",
    "\n",
    "We can then install everything from his requirements file. In your Anaconda shell, change the directory to the base of the downloaded repo, and run:\n",
    "> `pip install -r requirements.txt`\n",
    "\n",
    "Once the installation is completed, change the directory to *\".\\tf_pose\\pafprocess\"*, and run these two lines:\n",
    "> `swig -python -c++ pafprocess.i`<br/>\n",
    "`python3 setup.py build_ext --inplace`"
   ]
  },
  {
   "cell_type": "markdown",
   "metadata": {},
   "source": [
    "## Optional Downloads<a id=optional></a>\n",
    "You do not have to download all graph models used in the tf-pose-estimation code as the default *mobilenet_thin* is usable on its own. However, in this project I use the cmu model for greater precision in exchange for a greater processing requirement.<br/> To download the cmu model, download the 3 files in the links below:\n",
    "> http://www.mediafire.com/file/1pyjsjl0p93x27c/graph_freeze.pb <br/>\n",
    "http://www.mediafire.com/file/i72ll9k5i7x6qfh/graph.pb <br/>\n",
    "http://www.mediafire.com/file/qlzzr20mpocnpa3/graph_opt.pb \n",
    "\n",
    "and place them in your '*tf-pose-estimation/models/graph/cmu*' folder."
   ]
  },
  {
   "cell_type": "markdown",
   "metadata": {},
   "source": [
    "---\n",
    "# Project Owner's PC Specs<a id=specs></a>\n",
    "My PC specs are listed here for reference purposes.<br/> I am able to get 15-20 fps from videos or a real-time webcam feed with these specs.<br/>\n",
    "CPU and GPU cooler listed in case anyone runs into thermal throttling issues. These coolers allow my CPU and GPU to run at full performance indefinitely at reasonable temperatures.\n",
    "\n",
    "|'|'|\n",
    "|---|---|\n",
    "|Motherboard|MSI Z270 Gaming Pro Carbon|\n",
    "|CPU|Intel i7-7700 /w Turboboost enabled|\n",
    "|GPU|MSI GeForce RTX 2070 ARMOR 8G|\n",
    "|RAM|16.0 GB DDR4 2133 MHZ|\n",
    "|CPU Cooler|ID-Cooling Auraflow X360|\n",
    "|GPU Cooler|ID-Cooling Frostflow 240VGA|"
   ]
  }
 ],
 "metadata": {
  "kernelspec": {
   "display_name": "openpose",
   "language": "python",
   "name": "openpose"
  },
  "language_info": {
   "codemirror_mode": {
    "name": "ipython",
    "version": 3
   },
   "file_extension": ".py",
   "mimetype": "text/x-python",
   "name": "python",
   "nbconvert_exporter": "python",
   "pygments_lexer": "ipython3",
   "version": "3.6.8"
  }
 },
 "nbformat": 4,
 "nbformat_minor": 4
}
