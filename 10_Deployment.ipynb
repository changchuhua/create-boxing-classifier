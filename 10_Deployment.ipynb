{
 "cells": [
  {
   "cell_type": "markdown",
   "metadata": {},
   "source": [
    "# Contents\n",
    "- [Imports](#imports)\n",
    "- [Deployment](#deploy)\n",
    "- [Future Plans](#plans)"
   ]
  },
  {
   "cell_type": "markdown",
   "metadata": {},
   "source": [
    "---\n",
    "# Imports<a id=imports></a>"
   ]
  },
  {
   "cell_type": "markdown",
   "metadata": {},
   "source": [
    "---\n",
    "# Deployment<a id=deploy></a>"
   ]
  },
  {
   "cell_type": "markdown",
   "metadata": {},
   "source": [
    "---\n",
    "# Future Plans<a id=plans></a>\n",
    "We have hit our first milestone of creating a 'deployable' model for basic boxing-classification use.<br/>\n",
    "This is an acceptable milestone to hit for the purposes of this capstone project. Moving onward, we can aim to increase the performance of the model and also to hit other milestones to create an actual product for consumer/business use.<br/>\n",
    "\n",
    "To increase the performance of our model, we can do the following:\n",
    "1. Increase the amount and variation of our training data\n",
    "2. Use more advanced neural network methods to create our predictors\n",
    "\n",
    "Our future milestones to hit include:\n",
    "1. Creating a multi-label classifier to pinpoint [common mistakes](#https://www.infighting.ca/blog/the-77-most-common-mistakes-in-boxing/) in boxing movements\n",
    "2. Deploying our predictors on either mobile phones (aimed to consumers) or on a Jetson TX2 (aimed to businesses) for actual product creation\n",
    "3. Create a boxing response predictor, trained on actual boxing matches, to create an AI for boxing training.\n",
    "4. Deploy the AI in step 3 on Unity for VR games, or deploy it on a [robot](https://youtu.be/wNLuZNLBegw?t=137)"
   ]
  }
 ],
 "metadata": {
  "kernelspec": {
   "display_name": "openpose",
   "language": "python",
   "name": "openpose"
  },
  "language_info": {
   "codemirror_mode": {
    "name": "ipython",
    "version": 3
   },
   "file_extension": ".py",
   "mimetype": "text/x-python",
   "name": "python",
   "nbconvert_exporter": "python",
   "pygments_lexer": "ipython3",
   "version": "3.6.8"
  }
 },
 "nbformat": 4,
 "nbformat_minor": 2
}
